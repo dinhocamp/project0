{
 "cells": [
  {
   "attachments": {},
   "cell_type": "markdown",
   "metadata": {},
   "source": [
    "# please uncomment pip intallation commands once your on binder"
   ]
  },
  {
   "cell_type": "code",
   "execution_count": 2,
   "metadata": {},
   "outputs": [],
   "source": [
    "\n",
    "import numpy as np\n",
    "import pandas as pd\n",
    "import matplotlib.pyplot as plt\n",
    "from plotly.graph_objs import Scatter\n",
    "import plotly.io as pio"
   ]
  },
  {
   "attachments": {},
   "cell_type": "markdown",
   "metadata": {},
   "source": [
    "## extracting datasets\n",
    "### df is for qualy dataset\n",
    "### dfsp is for races (sprints)"
   ]
  },
  {
   "cell_type": "code",
   "execution_count": 3,
   "metadata": {},
   "outputs": [],
   "source": [
    "df = pd.read_csv('./f1/f1db_csv/quali.csv') \n",
    "dfsp=pd.read_csv('./f1/f1db_csv/sprint.csv')"
   ]
  },
  {
   "attachments": {},
   "cell_type": "markdown",
   "metadata": {},
   "source": [
    "## sample of the qualy dataset "
   ]
  },
  {
   "cell_type": "code",
   "execution_count": 4,
   "metadata": {},
   "outputs": [
    {
     "name": "stdout",
     "output_type": "stream",
     "text": [
      "       forename     surname number                   name        date  \\\n",
      "0         Lewis    Hamilton     44  Australian Grand Prix  2008-03-16   \n",
      "1        Robert      Kubica     88  Australian Grand Prix  2008-03-16   \n",
      "2        Heikki  Kovalainen     \\N  Australian Grand Prix  2008-03-16   \n",
      "3        Felipe       Massa     19  Australian Grand Prix  2008-03-16   \n",
      "4          Nick    Heidfeld     \\N  Australian Grand Prix  2008-03-16   \n",
      "...         ...         ...    ...                    ...         ...   \n",
      "9570      Kevin   Magnussen     20   Abu Dhabi Grand Prix  2022-11-20   \n",
      "9571     Pierre       Gasly     10   Abu Dhabi Grand Prix  2022-11-20   \n",
      "9572   Valtteri      Bottas     77   Abu Dhabi Grand Prix  2022-11-20   \n",
      "9573  Alexander       Albon     23   Abu Dhabi Grand Prix  2022-11-20   \n",
      "9574   Nicholas      Latifi      6   Abu Dhabi Grand Prix  2022-11-20   \n",
      "\n",
      "      position        q1        q2        q3  \n",
      "0            1  1:26.572  1:25.187  1:26.714  \n",
      "1            2  1:26.103  1:25.315  1:26.869  \n",
      "2            3  1:25.664  1:25.452  1:27.079  \n",
      "3            4  1:25.994  1:25.691  1:27.178  \n",
      "4            5  1:25.960  1:25.518  1:27.236  \n",
      "...        ...       ...       ...       ...  \n",
      "9570        16  1:25.834        \\N        \\N  \n",
      "9571        17  1:25.859        \\N        \\N  \n",
      "9572        18  1:25.892        \\N        \\N  \n",
      "9573        19  1:26.028        \\N        \\N  \n",
      "9574        20  1:26.054        \\N        \\N  \n",
      "\n",
      "[9575 rows x 9 columns]\n"
     ]
    },
    {
     "data": {
      "text/html": [
       "<div>\n",
       "<style scoped>\n",
       "    .dataframe tbody tr th:only-of-type {\n",
       "        vertical-align: middle;\n",
       "    }\n",
       "\n",
       "    .dataframe tbody tr th {\n",
       "        vertical-align: top;\n",
       "    }\n",
       "\n",
       "    .dataframe thead th {\n",
       "        text-align: right;\n",
       "    }\n",
       "</style>\n",
       "<table border=\"1\" class=\"dataframe\">\n",
       "  <thead>\n",
       "    <tr style=\"text-align: right;\">\n",
       "      <th></th>\n",
       "      <th>forename</th>\n",
       "      <th>surname</th>\n",
       "      <th>number</th>\n",
       "      <th>name</th>\n",
       "      <th>date</th>\n",
       "      <th>position</th>\n",
       "      <th>q1</th>\n",
       "      <th>q2</th>\n",
       "      <th>q3</th>\n",
       "    </tr>\n",
       "  </thead>\n",
       "  <tbody>\n",
       "    <tr>\n",
       "      <th>0</th>\n",
       "      <td>Lewis</td>\n",
       "      <td>Hamilton</td>\n",
       "      <td>44</td>\n",
       "      <td>Australian Grand Prix</td>\n",
       "      <td>2008-03-16</td>\n",
       "      <td>1</td>\n",
       "      <td>1:26.572</td>\n",
       "      <td>1:25.187</td>\n",
       "      <td>1:26.714</td>\n",
       "    </tr>\n",
       "    <tr>\n",
       "      <th>1</th>\n",
       "      <td>Robert</td>\n",
       "      <td>Kubica</td>\n",
       "      <td>88</td>\n",
       "      <td>Australian Grand Prix</td>\n",
       "      <td>2008-03-16</td>\n",
       "      <td>2</td>\n",
       "      <td>1:26.103</td>\n",
       "      <td>1:25.315</td>\n",
       "      <td>1:26.869</td>\n",
       "    </tr>\n",
       "    <tr>\n",
       "      <th>2</th>\n",
       "      <td>Heikki</td>\n",
       "      <td>Kovalainen</td>\n",
       "      <td>\\N</td>\n",
       "      <td>Australian Grand Prix</td>\n",
       "      <td>2008-03-16</td>\n",
       "      <td>3</td>\n",
       "      <td>1:25.664</td>\n",
       "      <td>1:25.452</td>\n",
       "      <td>1:27.079</td>\n",
       "    </tr>\n",
       "    <tr>\n",
       "      <th>3</th>\n",
       "      <td>Felipe</td>\n",
       "      <td>Massa</td>\n",
       "      <td>19</td>\n",
       "      <td>Australian Grand Prix</td>\n",
       "      <td>2008-03-16</td>\n",
       "      <td>4</td>\n",
       "      <td>1:25.994</td>\n",
       "      <td>1:25.691</td>\n",
       "      <td>1:27.178</td>\n",
       "    </tr>\n",
       "    <tr>\n",
       "      <th>4</th>\n",
       "      <td>Nick</td>\n",
       "      <td>Heidfeld</td>\n",
       "      <td>\\N</td>\n",
       "      <td>Australian Grand Prix</td>\n",
       "      <td>2008-03-16</td>\n",
       "      <td>5</td>\n",
       "      <td>1:25.960</td>\n",
       "      <td>1:25.518</td>\n",
       "      <td>1:27.236</td>\n",
       "    </tr>\n",
       "  </tbody>\n",
       "</table>\n",
       "</div>"
      ],
      "text/plain": [
       "  forename     surname number                   name        date  position  \\\n",
       "0    Lewis    Hamilton     44  Australian Grand Prix  2008-03-16         1   \n",
       "1   Robert      Kubica     88  Australian Grand Prix  2008-03-16         2   \n",
       "2   Heikki  Kovalainen     \\N  Australian Grand Prix  2008-03-16         3   \n",
       "3   Felipe       Massa     19  Australian Grand Prix  2008-03-16         4   \n",
       "4     Nick    Heidfeld     \\N  Australian Grand Prix  2008-03-16         5   \n",
       "\n",
       "         q1        q2        q3  \n",
       "0  1:26.572  1:25.187  1:26.714  \n",
       "1  1:26.103  1:25.315  1:26.869  \n",
       "2  1:25.664  1:25.452  1:27.079  \n",
       "3  1:25.994  1:25.691  1:27.178  \n",
       "4  1:25.960  1:25.518  1:27.236  "
      ]
     },
     "execution_count": 4,
     "metadata": {},
     "output_type": "execute_result"
    }
   ],
   "source": [
    "print (df)\n",
    "df.head()"
   ]
  },
  {
   "cell_type": "code",
   "execution_count": 5,
   "metadata": {},
   "outputs": [
    {
     "name": "stdout",
     "output_type": "stream",
     "text": [
      "<class 'pandas.core.frame.DataFrame'>\n",
      "RangeIndex: 9575 entries, 0 to 9574\n",
      "Data columns (total 9 columns):\n",
      " #   Column    Non-Null Count  Dtype \n",
      "---  ------    --------------  ----- \n",
      " 0   forename  9575 non-null   object\n",
      " 1   surname   9575 non-null   object\n",
      " 2   number    9575 non-null   object\n",
      " 3   name      9575 non-null   object\n",
      " 4   date      9575 non-null   object\n",
      " 5   position  9575 non-null   int64 \n",
      " 6   q1        9567 non-null   object\n",
      " 7   q2        9424 non-null   object\n",
      " 8   q3        9276 non-null   object\n",
      "dtypes: int64(1), object(8)\n",
      "memory usage: 673.4+ KB\n"
     ]
    }
   ],
   "source": [
    "df.info()\n"
   ]
  },
  {
   "cell_type": "code",
   "execution_count": 6,
   "metadata": {},
   "outputs": [],
   "source": [
    "dfs=df.sort_values(by=['date'])"
   ]
  },
  {
   "attachments": {},
   "cell_type": "markdown",
   "metadata": {},
   "source": [
    "## converting to appropriate types and extracting new column year"
   ]
  },
  {
   "cell_type": "code",
   "execution_count": 7,
   "metadata": {},
   "outputs": [
    {
     "name": "stdout",
     "output_type": "stream",
     "text": [
      "<class 'pandas.core.frame.DataFrame'>\n",
      "Int64Index: 9575 entries, 2610 to 9574\n",
      "Data columns (total 9 columns):\n",
      " #   Column    Non-Null Count  Dtype \n",
      "---  ------    --------------  ----- \n",
      " 0   forename  9575 non-null   string\n",
      " 1   surname   9575 non-null   string\n",
      " 2   number    9575 non-null   string\n",
      " 3   name      9575 non-null   string\n",
      " 4   date      9575 non-null   string\n",
      " 5   position  9575 non-null   Int64 \n",
      " 6   q1        9567 non-null   string\n",
      " 7   q2        9424 non-null   string\n",
      " 8   q3        9276 non-null   string\n",
      "dtypes: Int64(1), string(8)\n",
      "memory usage: 757.4 KB\n",
      "       forename     surname number                  name        date  \\\n",
      "2610    Olivier       Panis     \\N  Brazilian Grand Prix  1994-03-27   \n",
      "2617      David     Brabham     \\N  Brazilian Grand Prix  1994-03-27   \n",
      "2616   Bertrand      Gachot     \\N  Brazilian Grand Prix  1994-03-27   \n",
      "2615      Pedro        Lamy     \\N  Brazilian Grand Prix  1994-03-27   \n",
      "2614    Olivier     Beretta     \\N  Brazilian Grand Prix  1994-03-27   \n",
      "...         ...         ...    ...                   ...         ...   \n",
      "9557    Charles     Leclerc     16  Abu Dhabi Grand Prix  2022-11-20   \n",
      "9556     Sergio       Pérez     11  Abu Dhabi Grand Prix  2022-11-20   \n",
      "9555        Max  Verstappen     33  Abu Dhabi Grand Prix  2022-11-20   \n",
      "9563  Sebastian      Vettel      5  Abu Dhabi Grand Prix  2022-11-20   \n",
      "9574   Nicholas      Latifi      6  Abu Dhabi Grand Prix  2022-11-20   \n",
      "\n",
      "      position        q1        q2        q3  year  \n",
      "2610        19  1:19.304        \\N        \\N  1994  \n",
      "2617        26  1:21.186        \\N        \\N  1994  \n",
      "2616        25  1:20.729        \\N        \\N  1994  \n",
      "2615        24  1:19.975        \\N        \\N  1994  \n",
      "2614        23  1:19.524        \\N        \\N  1994  \n",
      "...        ...       ...       ...       ...   ...  \n",
      "9557         3  1:25.211  1:24.517  1:24.092  2022  \n",
      "9556         2  1:24.820  1:24.419  1:24.052  2022  \n",
      "9555         1  1:24.754  1:24.622  1:23.824  2022  \n",
      "9563         9  1:25.523  1:24.974  1:24.961  2022  \n",
      "9574        20  1:26.054        \\N        \\N  2022  \n",
      "\n",
      "[9575 rows x 10 columns]\n"
     ]
    }
   ],
   "source": [
    "dfs=dfs.convert_dtypes()\n",
    "dfs.info()\n",
    "dfs['year'] = [m[:4] for m in dfs['date']]\n",
    "print(dfs)"
   ]
  },
  {
   "attachments": {},
   "cell_type": "markdown",
   "metadata": {},
   "source": [
    "## getting all the pole sitters for each year since 1994"
   ]
  },
  {
   "cell_type": "code",
   "execution_count": 8,
   "metadata": {},
   "outputs": [
    {
     "name": "stdout",
     "output_type": "stream",
     "text": [
      "        forename        surname  poles\n",
      "0         Ayrton          Senna      3\n",
      "1         Carlos          Sainz      2\n",
      "2        Charles        Leclerc     17\n",
      "3          Damon           Hill     13\n",
      "4         Daniel      Ricciardo      3\n",
      "5          David      Coulthard      6\n",
      "6         Felipe          Massa     16\n",
      "7       Fernando         Alonso     23\n",
      "8         George        Russell      1\n",
      "9        Gerhard         Berger      4\n",
      "10     Giancarlo     Fisichella      4\n",
      "11        Heikki     Kovalainen      1\n",
      "12  Heinz-Harald       Frentzen      1\n",
      "13       Jacques     Villeneuve      7\n",
      "14         Jarno         Trulli      4\n",
      "15          Jean          Alesi      1\n",
      "16        Jenson         Button      8\n",
      "17          Juan  Pablo Montoya      2\n",
      "18         Kevin      Magnussen      1\n",
      "19          Kimi      Räikkönen     19\n",
      "20         Lance         Stroll      1\n",
      "21         Lando         Norris      1\n",
      "22         Lewis       Hamilton    106\n",
      "23          Mark         Webber     12\n",
      "24           Max     Verstappen     20\n",
      "25       Michael     Schumacher     36\n",
      "26          Mika       Häkkinen     10\n",
      "27          Nick       Heidfeld      1\n",
      "28          Nico     Hülkenberg      1\n",
      "29          Nico        Rosberg     30\n",
      "30         Nigel        Mansell      1\n",
      "31          Ralf     Schumacher      5\n",
      "32        Robert         Kubica      1\n",
      "33        Rubens    Barrichello     10\n",
      "34     Sebastian         Vettel     57\n",
      "35        Sergio          Pérez      1\n",
      "36      Valtteri         Bottas     19\n",
      "<class 'pandas.core.frame.DataFrame'>\n",
      "RangeIndex: 37 entries, 0 to 36\n",
      "Data columns (total 3 columns):\n",
      " #   Column    Non-Null Count  Dtype \n",
      "---  ------    --------------  ----- \n",
      " 0   forename  37 non-null     string\n",
      " 1   surname   37 non-null     string\n",
      " 2   poles     37 non-null     int64 \n",
      "dtypes: int64(1), string(2)\n",
      "memory usage: 1016.0 bytes\n"
     ]
    }
   ],
   "source": [
    "poles = dfs[dfs['position']==1]\n",
    "poles = poles.groupby([dfs['forename'],dfs['surname']])['position'].count().reset_index(name='poles')\n",
    "print(poles)\n",
    "poles.info()"
   ]
  },
  {
   "attachments": {},
   "cell_type": "markdown",
   "metadata": {},
   "source": [
    "## setting the top 10 poles sitters overall "
   ]
  },
  {
   "cell_type": "code",
   "execution_count": 9,
   "metadata": {},
   "outputs": [
    {
     "name": "stdout",
     "output_type": "stream",
     "text": [
      "     forename     surname  poles\n",
      "3       Damon        Hill     13\n",
      "6      Felipe       Massa     16\n",
      "2     Charles     Leclerc     17\n",
      "36   Valtteri      Bottas     19\n",
      "19       Kimi   Räikkönen     19\n",
      "24        Max  Verstappen     20\n",
      "7    Fernando      Alonso     23\n",
      "29       Nico     Rosberg     30\n",
      "25    Michael  Schumacher     36\n",
      "34  Sebastian      Vettel     57\n",
      "22      Lewis    Hamilton    106\n"
     ]
    }
   ],
   "source": [
    "top10 = poles.sort_values(by=['poles']).tail(11)  \n",
    "print(top10)"
   ]
  },
  {
   "cell_type": "code",
   "execution_count": 10,
   "metadata": {},
   "outputs": [
    {
     "data": {
      "image/png": "[encoded data removed]",
      "text/plain": [
       "<Figure size 800x500 with 1 Axes>"
      ]
     },
     "metadata": {},
     "output_type": "display_data"
    }
   ],
   "source": [
    "\n",
    "# plt.style.use('_mpl-gallery')\n",
    "plt.rcParams[\"figure.figsize\"] = (8,5)\n",
    "# plt.xlabel('xlabel', fontsize=18)\n",
    "\n",
    "x = top10['surname']\n",
    "y = top10['poles']\n",
    "\n",
    "# plot\n",
    "fig, ax = plt.subplots()\n",
    "\n",
    "ax.bar(x, y, width=1, edgecolor=\"white\", linewidth=1.5)\n",
    "\n",
    "ax.set(xlim=(1, 11), xticks=np.arange(1, 12),\n",
    "       ylim=(0, 150), yticks=np.arange(1, 105,25))\n",
    "\n",
    "plt.show()"
   ]
  },
  {
   "attachments": {},
   "cell_type": "markdown",
   "metadata": {},
   "source": [
    "## adding another column to plot pole positin consistancy"
   ]
  },
  {
   "cell_type": "code",
   "execution_count": 11,
   "metadata": {},
   "outputs": [
    {
     "data": {
      "text/html": [
       "<div>\n",
       "<style scoped>\n",
       "    .dataframe tbody tr th:only-of-type {\n",
       "        vertical-align: middle;\n",
       "    }\n",
       "\n",
       "    .dataframe tbody tr th {\n",
       "        vertical-align: top;\n",
       "    }\n",
       "\n",
       "    .dataframe thead th {\n",
       "        text-align: right;\n",
       "    }\n",
       "</style>\n",
       "<table border=\"1\" class=\"dataframe\">\n",
       "  <thead>\n",
       "    <tr style=\"text-align: right;\">\n",
       "      <th></th>\n",
       "      <th>forename</th>\n",
       "      <th>surname</th>\n",
       "      <th>year</th>\n",
       "      <th>poles</th>\n",
       "    </tr>\n",
       "  </thead>\n",
       "  <tbody>\n",
       "    <tr>\n",
       "      <th>0</th>\n",
       "      <td>Ayrton</td>\n",
       "      <td>Senna</td>\n",
       "      <td>1994</td>\n",
       "      <td>3</td>\n",
       "    </tr>\n",
       "    <tr>\n",
       "      <th>1</th>\n",
       "      <td>Carlos</td>\n",
       "      <td>Sainz</td>\n",
       "      <td>2022</td>\n",
       "      <td>2</td>\n",
       "    </tr>\n",
       "    <tr>\n",
       "      <th>2</th>\n",
       "      <td>Charles</td>\n",
       "      <td>Leclerc</td>\n",
       "      <td>2019</td>\n",
       "      <td>6</td>\n",
       "    </tr>\n",
       "    <tr>\n",
       "      <th>3</th>\n",
       "      <td>Charles</td>\n",
       "      <td>Leclerc</td>\n",
       "      <td>2021</td>\n",
       "      <td>2</td>\n",
       "    </tr>\n",
       "    <tr>\n",
       "      <th>4</th>\n",
       "      <td>Charles</td>\n",
       "      <td>Leclerc</td>\n",
       "      <td>2022</td>\n",
       "      <td>9</td>\n",
       "    </tr>\n",
       "    <tr>\n",
       "      <th>...</th>\n",
       "      <td>...</td>\n",
       "      <td>...</td>\n",
       "      <td>...</td>\n",
       "      <td>...</td>\n",
       "    </tr>\n",
       "    <tr>\n",
       "      <th>125</th>\n",
       "      <td>Valtteri</td>\n",
       "      <td>Bottas</td>\n",
       "      <td>2017</td>\n",
       "      <td>4</td>\n",
       "    </tr>\n",
       "    <tr>\n",
       "      <th>126</th>\n",
       "      <td>Valtteri</td>\n",
       "      <td>Bottas</td>\n",
       "      <td>2018</td>\n",
       "      <td>2</td>\n",
       "    </tr>\n",
       "    <tr>\n",
       "      <th>127</th>\n",
       "      <td>Valtteri</td>\n",
       "      <td>Bottas</td>\n",
       "      <td>2019</td>\n",
       "      <td>5</td>\n",
       "    </tr>\n",
       "    <tr>\n",
       "      <th>128</th>\n",
       "      <td>Valtteri</td>\n",
       "      <td>Bottas</td>\n",
       "      <td>2020</td>\n",
       "      <td>5</td>\n",
       "    </tr>\n",
       "    <tr>\n",
       "      <th>129</th>\n",
       "      <td>Valtteri</td>\n",
       "      <td>Bottas</td>\n",
       "      <td>2021</td>\n",
       "      <td>3</td>\n",
       "    </tr>\n",
       "  </tbody>\n",
       "</table>\n",
       "<p>130 rows × 4 columns</p>\n",
       "</div>"
      ],
      "text/plain": [
       "     forename  surname  year  poles\n",
       "0      Ayrton    Senna  1994      3\n",
       "1      Carlos    Sainz  2022      2\n",
       "2     Charles  Leclerc  2019      6\n",
       "3     Charles  Leclerc  2021      2\n",
       "4     Charles  Leclerc  2022      9\n",
       "..        ...      ...   ...    ...\n",
       "125  Valtteri   Bottas  2017      4\n",
       "126  Valtteri   Bottas  2018      2\n",
       "127  Valtteri   Bottas  2019      5\n",
       "128  Valtteri   Bottas  2020      5\n",
       "129  Valtteri   Bottas  2021      3\n",
       "\n",
       "[130 rows x 4 columns]"
      ]
     },
     "execution_count": 11,
     "metadata": {},
     "output_type": "execute_result"
    }
   ],
   "source": [
    "poles = dfs[dfs['position']==1]\n",
    "poles = poles.groupby([dfs['forename'],dfs['surname'],dfs['year'].astype('int32')])['position'].count().reset_index(name='poles')\n",
    "poles\n",
    "\n"
   ]
  },
  {
   "cell_type": "code",
   "execution_count": 12,
   "metadata": {},
   "outputs": [
    {
     "data": {
      "text/html": [
       "<div>\n",
       "<style scoped>\n",
       "    .dataframe tbody tr th:only-of-type {\n",
       "        vertical-align: middle;\n",
       "    }\n",
       "\n",
       "    .dataframe tbody tr th {\n",
       "        vertical-align: top;\n",
       "    }\n",
       "\n",
       "    .dataframe thead th {\n",
       "        text-align: right;\n",
       "    }\n",
       "</style>\n",
       "<table border=\"1\" class=\"dataframe\">\n",
       "  <thead>\n",
       "    <tr style=\"text-align: right;\">\n",
       "      <th></th>\n",
       "      <th>forename</th>\n",
       "      <th>surname</th>\n",
       "      <th>year</th>\n",
       "      <th>poles</th>\n",
       "    </tr>\n",
       "  </thead>\n",
       "  <tbody>\n",
       "    <tr>\n",
       "      <th>32</th>\n",
       "      <td>Heikki</td>\n",
       "      <td>Kovalainen</td>\n",
       "      <td>2008</td>\n",
       "      <td>1</td>\n",
       "    </tr>\n",
       "    <tr>\n",
       "      <th>76</th>\n",
       "      <td>Mark</td>\n",
       "      <td>Webber</td>\n",
       "      <td>2012</td>\n",
       "      <td>1</td>\n",
       "    </tr>\n",
       "    <tr>\n",
       "      <th>49</th>\n",
       "      <td>Kimi</td>\n",
       "      <td>Räikkönen</td>\n",
       "      <td>2004</td>\n",
       "      <td>1</td>\n",
       "    </tr>\n",
       "    <tr>\n",
       "      <th>106</th>\n",
       "      <td>Ralf</td>\n",
       "      <td>Schumacher</td>\n",
       "      <td>2004</td>\n",
       "      <td>1</td>\n",
       "    </tr>\n",
       "    <tr>\n",
       "      <th>93</th>\n",
       "      <td>Michael</td>\n",
       "      <td>Schumacher</td>\n",
       "      <td>2012</td>\n",
       "      <td>1</td>\n",
       "    </tr>\n",
       "    <tr>\n",
       "      <th>...</th>\n",
       "      <td>...</td>\n",
       "      <td>...</td>\n",
       "      <td>...</td>\n",
       "      <td>...</td>\n",
       "    </tr>\n",
       "    <tr>\n",
       "      <th>66</th>\n",
       "      <td>Lewis</td>\n",
       "      <td>Hamilton</td>\n",
       "      <td>2015</td>\n",
       "      <td>11</td>\n",
       "    </tr>\n",
       "    <tr>\n",
       "      <th>68</th>\n",
       "      <td>Lewis</td>\n",
       "      <td>Hamilton</td>\n",
       "      <td>2017</td>\n",
       "      <td>11</td>\n",
       "    </tr>\n",
       "    <tr>\n",
       "      <th>101</th>\n",
       "      <td>Nico</td>\n",
       "      <td>Rosberg</td>\n",
       "      <td>2014</td>\n",
       "      <td>11</td>\n",
       "    </tr>\n",
       "    <tr>\n",
       "      <th>67</th>\n",
       "      <td>Lewis</td>\n",
       "      <td>Hamilton</td>\n",
       "      <td>2016</td>\n",
       "      <td>12</td>\n",
       "    </tr>\n",
       "    <tr>\n",
       "      <th>117</th>\n",
       "      <td>Sebastian</td>\n",
       "      <td>Vettel</td>\n",
       "      <td>2011</td>\n",
       "      <td>15</td>\n",
       "    </tr>\n",
       "  </tbody>\n",
       "</table>\n",
       "<p>130 rows × 4 columns</p>\n",
       "</div>"
      ],
      "text/plain": [
       "      forename     surname  year  poles\n",
       "32      Heikki  Kovalainen  2008      1\n",
       "76        Mark      Webber  2012      1\n",
       "49        Kimi   Räikkönen  2004      1\n",
       "106       Ralf  Schumacher  2004      1\n",
       "93     Michael  Schumacher  2012      1\n",
       "..         ...         ...   ...    ...\n",
       "66       Lewis    Hamilton  2015     11\n",
       "68       Lewis    Hamilton  2017     11\n",
       "101       Nico     Rosberg  2014     11\n",
       "67       Lewis    Hamilton  2016     12\n",
       "117  Sebastian      Vettel  2011     15\n",
       "\n",
       "[130 rows x 4 columns]"
      ]
     },
     "execution_count": 12,
     "metadata": {},
     "output_type": "execute_result"
    }
   ],
   "source": [
    "\n",
    "dfp=poles.query('year == year').sort_values(by='year')\n",
    "dfp.sort_values(by='poles')"
   ]
  },
  {
   "cell_type": "code",
   "execution_count": 13,
   "metadata": {},
   "outputs": [
    {
     "data": {
      "application/vnd.plotly.v1+json": {
       "config": {
        "plotlyServerURL": "https://plot.ly"
       },
       "data": [
        {
         "type": "scatter",
         "x": [
          2007,
          2008,
          2009,
          2010,
          2011,
          2012,
          2013,
          2014,
          2015,
          2016,
          2017,
          2018,
          2019,
          2020,
          2021
         ],
         "y": [
          5,
          7,
          4,
          1,
          1,
          8,
          5,
          7,
          11,
          12,
          11,
          11,
          5,
          10,
          8
         ]
        },
        {
         "type": "scatter",
         "x": [
          2008,
          2009,
          2010,
          2011,
          2012,
          2013,
          2015,
          2017,
          2018,
          2019
         ],
         "y": [
          1,
          4,
          10,
          15,
          6,
          9,
          1,
          4,
          5,
          2
         ]
        },
        {
         "type": "scatter",
         "x": [
          2017,
          2018,
          2019,
          2020,
          2021
         ],
         "y": [
          4,
          2,
          5,
          5,
          3
         ]
        },
        {
         "type": "scatter",
         "x": [
          2012,
          2013,
          2014,
          2015,
          2016
         ],
         "y": [
          1,
          3,
          11,
          7,
          8
         ]
        },
        {
         "type": "scatter",
         "x": [
          1994,
          1995,
          1996,
          1997,
          2000,
          2001,
          2002,
          2003,
          2003,
          2004,
          2004,
          2005,
          2005,
          2006,
          2012
         ],
         "y": [
          5,
          4,
          2,
          2,
          1,
          1,
          2,
          3,
          5,
          1,
          8,
          1,
          1,
          4,
          1
         ]
        },
        {
         "type": "scatter",
         "x": [
          2019,
          2020,
          2021,
          2022
         ],
         "y": [
          3,
          1,
          8,
          8
         ]
        },
        {
         "type": "scatter",
         "x": [
          2019,
          2021,
          2022
         ],
         "y": [
          6,
          2,
          9
         ]
        }
       ],
       "layout": {
        "template": {
         "data": {
          "bar": [
           {
            "error_x": {
             "color": "#2a3f5f"
            },
            "error_y": {
             "color": "#2a3f5f"
            },
            "marker": {
             "line": {
              "color": "#E5ECF6",
              "width": 0.5
             },
             "pattern": {
              "fillmode": "overlay",
              "size": 10,
              "solidity": 0.2
             }
            },
            "type": "bar"
           }
          ],
          "barpolar": [
           {
            "marker": {
             "line": {
              "color": "#E5ECF6",
              "width": 0.5
             },
             "pattern": {
              "fillmode": "overlay",
              "size": 10,
              "solidity": 0.2
             }
            },
            "type": "barpolar"
           }
          ],
          "carpet": [
           {
            "aaxis": {
             "endlinecolor": "#2a3f5f",
             "gridcolor": "white",
             "linecolor": "white",
             "minorgridcolor": "white",
             "startlinecolor": "#2a3f5f"
            },
            "baxis": {
             "endlinecolor": "#2a3f5f",
             "gridcolor": "white",
             "linecolor": "white",
             "minorgridcolor": "white",
             "startlinecolor": "#2a3f5f"
            },
            "type": "carpet"
           }
          ],
          "choropleth": [
           {
            "colorbar": {
             "outlinewidth": 0,
             "ticks": ""
            },
            "type": "choropleth"
           }
          ],
          "contour": [
           {
            "colorbar": {
             "outlinewidth": 0,
             "ticks": ""
            },
            "colorscale": [
             [
              0,
              "#0d0887"
             ],
             [
              0.1111111111111111,
              "#46039f"
             ],
             [
              0.2222222222222222,
              "#7201a8"
             ],
             [
              0.3333333333333333,
              "#9c179e"
             ],
             [
              0.4444444444444444,
              "#bd3786"
             ],
             [
              0.5555555555555556,
              "#d8576b"
             ],
             [
              0.6666666666666666,
              "#ed7953"
             ],
             [
              0.7777777777777778,
              "#fb9f3a"
             ],
             [
              0.8888888888888888,
              "#fdca26"
             ],
             [
              1,
              "#f0f921"
             ]
            ],
            "type": "contour"
           }
          ],
          "contourcarpet": [
           {
            "colorbar": {
             "outlinewidth": 0,
             "ticks": ""
            },
            "type": "contourcarpet"
           }
          ],
          "heatmap": [
           {
            "colorbar": {
             "outlinewidth": 0,
             "ticks": ""
            },
            "colorscale": [
             [
              0,
              "#0d0887"
             ],
             [
              0.1111111111111111,
              "#46039f"
             ],
             [
              0.2222222222222222,
              "#7201a8"
             ],
             [
              0.3333333333333333,
              "#9c179e"
             ],
             [
              0.4444444444444444,
              "#bd3786"
             ],
             [
              0.5555555555555556,
              "#d8576b"
             ],
             [
              0.6666666666666666,
              "#ed7953"
             ],
             [
              0.7777777777777778,
              "#fb9f3a"
             ],
             [
              0.8888888888888888,
              "#fdca26"
             ],
             [
              1,
              "#f0f921"
             ]
            ],
            "type": "heatmap"
           }
          ],
          "heatmapgl": [
           {
            "colorbar": {
             "outlinewidth": 0,
             "ticks": ""
            },
            "colorscale": [
             [
              0,
              "#0d0887"
             ],
             [
              0.1111111111111111,
              "#46039f"
             ],
             [
              0.2222222222222222,
              "#7201a8"
             ],
             [
              0.3333333333333333,
              "#9c179e"
             ],
             [
              0.4444444444444444,
              "#bd3786"
             ],
             [
              0.5555555555555556,
              "#d8576b"
             ],
             [
              0.6666666666666666,
              "#ed7953"
             ],
             [
              0.7777777777777778,
              "#fb9f3a"
             ],
             [
              0.8888888888888888,
              "#fdca26"
             ],
             [
              1,
              "#f0f921"
             ]
            ],
            "type": "heatmapgl"
           }
          ],
          "histogram": [
           {
            "marker": {
             "pattern": {
              "fillmode": "overlay",
              "size": 10,
              "solidity": 0.2
             }
            },
            "type": "histogram"
           }
          ],
          "histogram2d": [
           {
            "colorbar": {
             "outlinewidth": 0,
             "ticks": ""
            },
            "colorscale": [
             [
              0,
              "#0d0887"
             ],
             [
              0.1111111111111111,
              "#46039f"
             ],
             [
              0.2222222222222222,
              "#7201a8"
             ],
             [
              0.3333333333333333,
              "#9c179e"
             ],
             [
              0.4444444444444444,
              "#bd3786"
             ],
             [
              0.5555555555555556,
              "#d8576b"
             ],
             [
              0.6666666666666666,
              "#ed7953"
             ],
             [
              0.7777777777777778,
              "#fb9f3a"
             ],
             [
              0.8888888888888888,
              "#fdca26"
             ],
             [
              1,
              "#f0f921"
             ]
            ],
            "type": "histogram2d"
           }
          ],
          "histogram2dcontour": [
           {
            "colorbar": {
             "outlinewidth": 0,
             "ticks": ""
            },
            "colorscale": [
             [
              0,
              "#0d0887"
             ],
             [
              0.1111111111111111,
              "#46039f"
             ],
             [
              0.2222222222222222,
              "#7201a8"
             ],
             [
              0.3333333333333333,
              "#9c179e"
             ],
             [
              0.4444444444444444,
              "#bd3786"
             ],
             [
              0.5555555555555556,
              "#d8576b"
             ],
             [
              0.6666666666666666,
              "#ed7953"
             ],
             [
              0.7777777777777778,
              "#fb9f3a"
             ],
             [
              0.8888888888888888,
              "#fdca26"
             ],
             [
              1,
              "#f0f921"
             ]
            ],
            "type": "histogram2dcontour"
           }
          ],
          "mesh3d": [
           {
            "colorbar": {
             "outlinewidth": 0,
             "ticks": ""
            },
            "type": "mesh3d"
           }
          ],
          "parcoords": [
           {
            "line": {
             "colorbar": {
              "outlinewidth": 0,
              "ticks": ""
             }
            },
            "type": "parcoords"
           }
          ],
          "pie": [
           {
            "automargin": true,
            "type": "pie"
           }
          ],
          "scatter": [
           {
            "fillpattern": {
             "fillmode": "overlay",
             "size": 10,
             "solidity": 0.2
            },
            "type": "scatter"
           }
          ],
          "scatter3d": [
           {
            "line": {
             "colorbar": {
              "outlinewidth": 0,
              "ticks": ""
             }
            },
            "marker": {
             "colorbar": {
              "outlinewidth": 0,
              "ticks": ""
             }
            },
            "type": "scatter3d"
           }
          ],
          "scattercarpet": [
           {
            "marker": {
             "colorbar": {
              "outlinewidth": 0,
              "ticks": ""
             }
            },
            "type": "scattercarpet"
           }
          ],
          "scattergeo": [
           {
            "marker": {
             "colorbar": {
              "outlinewidth": 0,
              "ticks": ""
             }
            },
            "type": "scattergeo"
           }
          ],
          "scattergl": [
           {
            "marker": {
             "colorbar": {
              "outlinewidth": 0,
              "ticks": ""
             }
            },
            "type": "scattergl"
           }
          ],
          "scattermapbox": [
           {
            "marker": {
             "colorbar": {
              "outlinewidth": 0,
              "ticks": ""
             }
            },
            "type": "scattermapbox"
           }
          ],
          "scatterpolar": [
           {
            "marker": {
             "colorbar": {
              "outlinewidth": 0,
              "ticks": ""
             }
            },
            "type": "scatterpolar"
           }
          ],
          "scatterpolargl": [
           {
            "marker": {
             "colorbar": {
              "outlinewidth": 0,
              "ticks": ""
             }
            },
            "type": "scatterpolargl"
           }
          ],
          "scatterternary": [
           {
            "marker": {
             "colorbar": {
              "outlinewidth": 0,
              "ticks": ""
             }
            },
            "type": "scatterternary"
           }
          ],
          "surface": [
           {
            "colorbar": {
             "outlinewidth": 0,
             "ticks": ""
            },
            "colorscale": [
             [
              0,
              "#0d0887"
             ],
             [
              0.1111111111111111,
              "#46039f"
             ],
             [
              0.2222222222222222,
              "#7201a8"
             ],
             [
              0.3333333333333333,
              "#9c179e"
             ],
             [
              0.4444444444444444,
              "#bd3786"
             ],
             [
              0.5555555555555556,
              "#d8576b"
             ],
             [
              0.6666666666666666,
              "#ed7953"
             ],
             [
              0.7777777777777778,
              "#fb9f3a"
             ],
             [
              0.8888888888888888,
              "#fdca26"
             ],
             [
              1,
              "#f0f921"
             ]
            ],
            "type": "surface"
           }
          ],
          "table": [
           {
            "cells": {
             "fill": {
              "color": "#EBF0F8"
             },
             "line": {
              "color": "white"
             }
            },
            "header": {
             "fill": {
              "color": "#C8D4E3"
             },
             "line": {
              "color": "white"
             }
            },
            "type": "table"
           }
          ]
         },
         "layout": {
          "annotationdefaults": {
           "arrowcolor": "#2a3f5f",
           "arrowhead": 0,
           "arrowwidth": 1
          },
          "autotypenumbers": "strict",
          "coloraxis": {
           "colorbar": {
            "outlinewidth": 0,
            "ticks": ""
           }
          },
          "colorscale": {
           "diverging": [
            [
             0,
             "#8e0152"
            ],
            [
             0.1,
             "#c51b7d"
            ],
            [
             0.2,
             "#de77ae"
            ],
            [
             0.3,
             "#f1b6da"
            ],
            [
             0.4,
             "#fde0ef"
            ],
            [
             0.5,
             "#f7f7f7"
            ],
            [
             0.6,
             "#e6f5d0"
            ],
            [
             0.7,
             "#b8e186"
            ],
            [
             0.8,
             "#7fbc41"
            ],
            [
             0.9,
             "#4d9221"
            ],
            [
             1,
             "#276419"
            ]
           ],
           "sequential": [
            [
             0,
             "#0d0887"
            ],
            [
             0.1111111111111111,
             "#46039f"
            ],
            [
             0.2222222222222222,
             "#7201a8"
            ],
            [
             0.3333333333333333,
             "#9c179e"
            ],
            [
             0.4444444444444444,
             "#bd3786"
            ],
            [
             0.5555555555555556,
             "#d8576b"
            ],
            [
             0.6666666666666666,
             "#ed7953"
            ],
            [
             0.7777777777777778,
             "#fb9f3a"
            ],
            [
             0.8888888888888888,
             "#fdca26"
            ],
            [
             1,
             "#f0f921"
            ]
           ],
           "sequentialminus": [
            [
             0,
             "#0d0887"
            ],
            [
             0.1111111111111111,
             "#46039f"
            ],
            [
             0.2222222222222222,
             "#7201a8"
            ],
            [
             0.3333333333333333,
             "#9c179e"
            ],
            [
             0.4444444444444444,
             "#bd3786"
            ],
            [
             0.5555555555555556,
             "#d8576b"
            ],
            [
             0.6666666666666666,
             "#ed7953"
            ],
            [
             0.7777777777777778,
             "#fb9f3a"
            ],
            [
             0.8888888888888888,
             "#fdca26"
            ],
            [
             1,
             "#f0f921"
            ]
           ]
          },
          "colorway": [
           "#636efa",
           "#EF553B",
           "#00cc96",
           "#ab63fa",
           "#FFA15A",
           "#19d3f3",
           "#FF6692",
           "#B6E880",
           "#FF97FF",
           "#FECB52"
          ],
          "font": {
           "color": "#2a3f5f"
          },
          "geo": {
           "bgcolor": "white",
           "lakecolor": "white",
           "landcolor": "#E5ECF6",
           "showlakes": true,
           "showland": true,
           "subunitcolor": "white"
          },
          "hoverlabel": {
           "align": "left"
          },
          "hovermode": "closest",
          "mapbox": {
           "style": "light"
          },
          "paper_bgcolor": "white",
          "plot_bgcolor": "#E5ECF6",
          "polar": {
           "angularaxis": {
            "gridcolor": "white",
            "linecolor": "white",
            "ticks": ""
           },
           "bgcolor": "#E5ECF6",
           "radialaxis": {
            "gridcolor": "white",
            "linecolor": "white",
            "ticks": ""
           }
          },
          "scene": {
           "xaxis": {
            "backgroundcolor": "#E5ECF6",
            "gridcolor": "white",
            "gridwidth": 2,
            "linecolor": "white",
            "showbackground": true,
            "ticks": "",
            "zerolinecolor": "white"
           },
           "yaxis": {
            "backgroundcolor": "#E5ECF6",
            "gridcolor": "white",
            "gridwidth": 2,
            "linecolor": "white",
            "showbackground": true,
            "ticks": "",
            "zerolinecolor": "white"
           },
           "zaxis": {
            "backgroundcolor": "#E5ECF6",
            "gridcolor": "white",
            "gridwidth": 2,
            "linecolor": "white",
            "showbackground": true,
            "ticks": "",
            "zerolinecolor": "white"
           }
          },
          "shapedefaults": {
           "line": {
            "color": "#2a3f5f"
           }
          },
          "ternary": {
           "aaxis": {
            "gridcolor": "white",
            "linecolor": "white",
            "ticks": ""
           },
           "baxis": {
            "gridcolor": "white",
            "linecolor": "white",
            "ticks": ""
           },
           "bgcolor": "#E5ECF6",
           "caxis": {
            "gridcolor": "white",
            "linecolor": "white",
            "ticks": ""
           }
          },
          "title": {
           "x": 0.05
          },
          "xaxis": {
           "automargin": true,
           "gridcolor": "white",
           "linecolor": "white",
           "ticks": "",
           "title": {
            "standoff": 15
           },
           "zerolinecolor": "white",
           "zerolinewidth": 2
          },
          "yaxis": {
           "automargin": true,
           "gridcolor": "white",
           "linecolor": "white",
           "ticks": "",
           "title": {
            "standoff": 15
           },
           "zerolinecolor": "white",
           "zerolinewidth": 2
          }
         }
        },
        "title": {
         "text": "comparison between Hamilton and other drivers"
        },
        "xaxis": {
         "fixedrange": true
        },
        "yaxis": {
         "fixedrange": true
        }
       }
      }
     },
     "metadata": {},
     "output_type": "display_data"
    }
   ],
   "source": [
    "\n",
    "plt.style.use('_mpl-gallery')\n",
    "plt.rcParams[\"figure.figsize\"] = (8,5)\n",
    "\n",
    "x = dfp.loc[dfp['surname']=='Hamilton']['year']\n",
    "y = dfp.loc[dfp['surname']=='Hamilton']['poles']\n",
    "\n",
    "# ax1 = dfl.plot.scatter(x='year',y='poles',c='DarkBlue')\n",
    "# axl =dfv.plot.scatter(x='year',y='poles',c='red')\n",
    "fig = dict({\n",
    "    \"data\": [{\"type\": \"scatter\",\n",
    "              \"x\": x,\n",
    "              \"y\": y},\n",
    "              {\"type\": \"scatter\",\n",
    "              \"x\": dfp.loc[dfp['surname']=='Vettel']['year'],\n",
    "              \"y\": dfp.loc[dfp['surname']=='Vettel']['poles']},\n",
    "              {\"type\": \"scatter\",\n",
    "              \"x\": dfp.loc[dfp['surname']=='Bottas']['year'],\n",
    "              \"y\": dfp.loc[dfp['surname']=='Bottas']['poles']},\n",
    "              {\"type\": \"scatter\",\n",
    "              \"x\": dfp.loc[dfp['surname']=='Rosberg']['year'],\n",
    "              \"y\": dfp.loc[dfp['surname']=='Rosberg']['poles']},\n",
    "              {\"type\": \"scatter\",\n",
    "              \"x\": dfp.loc[dfp['surname']=='Schumacher']['year'],\n",
    "              \"y\": dfp.loc[dfp['surname']=='Schumacher']['poles']},\n",
    "              {\"type\": \"scatter\",\n",
    "              \"x\": dfp.loc[dfp['surname']=='Verstappen']['year'],\n",
    "              \"y\": dfp.loc[dfp['surname']=='Verstappen']['poles']},\n",
    "              {\"type\": \"scatter\",\n",
    "              \"x\": dfp.loc[dfp['surname']=='Leclerc']['year'],\n",
    "              \"y\": dfp.loc[dfp['surname']=='Leclerc']['poles']}],\n",
    "    \"layout\": {\"title\": {\"text\": \"comparison between Hamilton and other drivers\"},\n",
    "                \"xaxis_fixedrange\": True,\n",
    "                \"yaxis_fixedrange\": True}\n",
    "    })\n",
    "pio.show(fig)\n"
   ]
  },
  {
   "cell_type": "code",
   "execution_count": 147,
   "metadata": {},
   "outputs": [
    {
     "data": {
      "text/html": [
       "<div>\n",
       "<style scoped>\n",
       "    .dataframe tbody tr th:only-of-type {\n",
       "        vertical-align: middle;\n",
       "    }\n",
       "\n",
       "    .dataframe tbody tr th {\n",
       "        vertical-align: top;\n",
       "    }\n",
       "\n",
       "    .dataframe thead th {\n",
       "        text-align: right;\n",
       "    }\n",
       "</style>\n",
       "<table border=\"1\" class=\"dataframe\">\n",
       "  <thead>\n",
       "    <tr style=\"text-align: right;\">\n",
       "      <th></th>\n",
       "      <th>forename</th>\n",
       "      <th>surname</th>\n",
       "      <th>number</th>\n",
       "      <th>name</th>\n",
       "      <th>date</th>\n",
       "      <th>positionOrder</th>\n",
       "      <th>grid</th>\n",
       "      <th>rank</th>\n",
       "    </tr>\n",
       "  </thead>\n",
       "  <tbody>\n",
       "    <tr>\n",
       "      <th>25758</th>\n",
       "      <td>Carlos</td>\n",
       "      <td>Sainz</td>\n",
       "      <td>55</td>\n",
       "      <td>Japanese Grand Prix</td>\n",
       "      <td>2022-10-09</td>\n",
       "      <td>19</td>\n",
       "      <td>3</td>\n",
       "      <td>0</td>\n",
       "    </tr>\n",
       "    <tr>\n",
       "      <th>25751</th>\n",
       "      <td>Lance</td>\n",
       "      <td>Stroll</td>\n",
       "      <td>18</td>\n",
       "      <td>Japanese Grand Prix</td>\n",
       "      <td>2022-10-09</td>\n",
       "      <td>12</td>\n",
       "      <td>19</td>\n",
       "      <td>5</td>\n",
       "    </tr>\n",
       "    <tr>\n",
       "      <th>25769</th>\n",
       "      <td>Yuki</td>\n",
       "      <td>Tsunoda</td>\n",
       "      <td>22</td>\n",
       "      <td>United States Grand Prix</td>\n",
       "      <td>2022-10-23</td>\n",
       "      <td>10</td>\n",
       "      <td>19</td>\n",
       "      <td>6</td>\n",
       "    </tr>\n",
       "    <tr>\n",
       "      <th>25767</th>\n",
       "      <td>Sebastian</td>\n",
       "      <td>Vettel</td>\n",
       "      <td>5</td>\n",
       "      <td>United States Grand Prix</td>\n",
       "      <td>2022-10-23</td>\n",
       "      <td>8</td>\n",
       "      <td>10</td>\n",
       "      <td>16</td>\n",
       "    </tr>\n",
       "    <tr>\n",
       "      <th>25766</th>\n",
       "      <td>Fernando</td>\n",
       "      <td>Alonso</td>\n",
       "      <td>14</td>\n",
       "      <td>United States Grand Prix</td>\n",
       "      <td>2022-10-23</td>\n",
       "      <td>7</td>\n",
       "      <td>14</td>\n",
       "      <td>8</td>\n",
       "    </tr>\n",
       "    <tr>\n",
       "      <th>25765</th>\n",
       "      <td>Lando</td>\n",
       "      <td>Norris</td>\n",
       "      <td>4</td>\n",
       "      <td>United States Grand Prix</td>\n",
       "      <td>2022-10-23</td>\n",
       "      <td>6</td>\n",
       "      <td>6</td>\n",
       "      <td>7</td>\n",
       "    </tr>\n",
       "    <tr>\n",
       "      <th>25760</th>\n",
       "      <td>Max</td>\n",
       "      <td>Verstappen</td>\n",
       "      <td>33</td>\n",
       "      <td>United States Grand Prix</td>\n",
       "      <td>2022-10-23</td>\n",
       "      <td>1</td>\n",
       "      <td>2</td>\n",
       "      <td>2</td>\n",
       "    </tr>\n",
       "    <tr>\n",
       "      <th>25763</th>\n",
       "      <td>Sergio</td>\n",
       "      <td>Pérez</td>\n",
       "      <td>11</td>\n",
       "      <td>United States Grand Prix</td>\n",
       "      <td>2022-10-23</td>\n",
       "      <td>4</td>\n",
       "      <td>9</td>\n",
       "      <td>3</td>\n",
       "    </tr>\n",
       "    <tr>\n",
       "      <th>25762</th>\n",
       "      <td>Charles</td>\n",
       "      <td>Leclerc</td>\n",
       "      <td>16</td>\n",
       "      <td>United States Grand Prix</td>\n",
       "      <td>2022-10-23</td>\n",
       "      <td>3</td>\n",
       "      <td>12</td>\n",
       "      <td>4</td>\n",
       "    </tr>\n",
       "    <tr>\n",
       "      <th>25761</th>\n",
       "      <td>Lewis</td>\n",
       "      <td>Hamilton</td>\n",
       "      <td>44</td>\n",
       "      <td>United States Grand Prix</td>\n",
       "      <td>2022-10-23</td>\n",
       "      <td>2</td>\n",
       "      <td>3</td>\n",
       "      <td>5</td>\n",
       "    </tr>\n",
       "    <tr>\n",
       "      <th>25768</th>\n",
       "      <td>Kevin</td>\n",
       "      <td>Magnussen</td>\n",
       "      <td>20</td>\n",
       "      <td>United States Grand Prix</td>\n",
       "      <td>2022-10-23</td>\n",
       "      <td>9</td>\n",
       "      <td>13</td>\n",
       "      <td>11</td>\n",
       "    </tr>\n",
       "    <tr>\n",
       "      <th>25764</th>\n",
       "      <td>George</td>\n",
       "      <td>Russell</td>\n",
       "      <td>63</td>\n",
       "      <td>United States Grand Prix</td>\n",
       "      <td>2022-10-23</td>\n",
       "      <td>5</td>\n",
       "      <td>4</td>\n",
       "      <td>1</td>\n",
       "    </tr>\n",
       "    <tr>\n",
       "      <th>25770</th>\n",
       "      <td>Esteban</td>\n",
       "      <td>Ocon</td>\n",
       "      <td>31</td>\n",
       "      <td>United States Grand Prix</td>\n",
       "      <td>2022-10-23</td>\n",
       "      <td>11</td>\n",
       "      <td>0</td>\n",
       "      <td>13</td>\n",
       "    </tr>\n",
       "    <tr>\n",
       "      <th>25771</th>\n",
       "      <td>Guanyu</td>\n",
       "      <td>Zhou</td>\n",
       "      <td>24</td>\n",
       "      <td>United States Grand Prix</td>\n",
       "      <td>2022-10-23</td>\n",
       "      <td>12</td>\n",
       "      <td>18</td>\n",
       "      <td>15</td>\n",
       "    </tr>\n",
       "    <tr>\n",
       "      <th>25778</th>\n",
       "      <td>Valtteri</td>\n",
       "      <td>Bottas</td>\n",
       "      <td>77</td>\n",
       "      <td>United States Grand Prix</td>\n",
       "      <td>2022-10-23</td>\n",
       "      <td>19</td>\n",
       "      <td>7</td>\n",
       "      <td>18</td>\n",
       "    </tr>\n",
       "    <tr>\n",
       "      <th>25777</th>\n",
       "      <td>Lance</td>\n",
       "      <td>Stroll</td>\n",
       "      <td>18</td>\n",
       "      <td>United States Grand Prix</td>\n",
       "      <td>2022-10-23</td>\n",
       "      <td>18</td>\n",
       "      <td>5</td>\n",
       "      <td>17</td>\n",
       "    </tr>\n",
       "    <tr>\n",
       "      <th>25779</th>\n",
       "      <td>Carlos</td>\n",
       "      <td>Sainz</td>\n",
       "      <td>55</td>\n",
       "      <td>United States Grand Prix</td>\n",
       "      <td>2022-10-23</td>\n",
       "      <td>20</td>\n",
       "      <td>1</td>\n",
       "      <td>0</td>\n",
       "    </tr>\n",
       "    <tr>\n",
       "      <th>25775</th>\n",
       "      <td>Daniel</td>\n",
       "      <td>Ricciardo</td>\n",
       "      <td>3</td>\n",
       "      <td>United States Grand Prix</td>\n",
       "      <td>2022-10-23</td>\n",
       "      <td>16</td>\n",
       "      <td>15</td>\n",
       "      <td>14</td>\n",
       "    </tr>\n",
       "    <tr>\n",
       "      <th>25774</th>\n",
       "      <td>Mick</td>\n",
       "      <td>Schumacher</td>\n",
       "      <td>47</td>\n",
       "      <td>United States Grand Prix</td>\n",
       "      <td>2022-10-23</td>\n",
       "      <td>15</td>\n",
       "      <td>16</td>\n",
       "      <td>10</td>\n",
       "    </tr>\n",
       "    <tr>\n",
       "      <th>25773</th>\n",
       "      <td>Pierre</td>\n",
       "      <td>Gasly</td>\n",
       "      <td>10</td>\n",
       "      <td>United States Grand Prix</td>\n",
       "      <td>2022-10-23</td>\n",
       "      <td>14</td>\n",
       "      <td>11</td>\n",
       "      <td>12</td>\n",
       "    </tr>\n",
       "    <tr>\n",
       "      <th>25772</th>\n",
       "      <td>Alexander</td>\n",
       "      <td>Albon</td>\n",
       "      <td>23</td>\n",
       "      <td>United States Grand Prix</td>\n",
       "      <td>2022-10-23</td>\n",
       "      <td>13</td>\n",
       "      <td>8</td>\n",
       "      <td>9</td>\n",
       "    </tr>\n",
       "    <tr>\n",
       "      <th>25776</th>\n",
       "      <td>Nicholas</td>\n",
       "      <td>Latifi</td>\n",
       "      <td>6</td>\n",
       "      <td>United States Grand Prix</td>\n",
       "      <td>2022-10-23</td>\n",
       "      <td>17</td>\n",
       "      <td>17</td>\n",
       "      <td>19</td>\n",
       "    </tr>\n",
       "  </tbody>\n",
       "</table>\n",
       "</div>"
      ],
      "text/plain": [
       "        forename     surname number                      name        date  \\\n",
       "25758     Carlos       Sainz     55       Japanese Grand Prix  2022-10-09   \n",
       "25751      Lance      Stroll     18       Japanese Grand Prix  2022-10-09   \n",
       "25769       Yuki     Tsunoda     22  United States Grand Prix  2022-10-23   \n",
       "25767  Sebastian      Vettel      5  United States Grand Prix  2022-10-23   \n",
       "25766   Fernando      Alonso     14  United States Grand Prix  2022-10-23   \n",
       "25765      Lando      Norris      4  United States Grand Prix  2022-10-23   \n",
       "25760        Max  Verstappen     33  United States Grand Prix  2022-10-23   \n",
       "25763     Sergio       Pérez     11  United States Grand Prix  2022-10-23   \n",
       "25762    Charles     Leclerc     16  United States Grand Prix  2022-10-23   \n",
       "25761      Lewis    Hamilton     44  United States Grand Prix  2022-10-23   \n",
       "25768      Kevin   Magnussen     20  United States Grand Prix  2022-10-23   \n",
       "25764     George     Russell     63  United States Grand Prix  2022-10-23   \n",
       "25770    Esteban        Ocon     31  United States Grand Prix  2022-10-23   \n",
       "25771     Guanyu        Zhou     24  United States Grand Prix  2022-10-23   \n",
       "25778   Valtteri      Bottas     77  United States Grand Prix  2022-10-23   \n",
       "25777      Lance      Stroll     18  United States Grand Prix  2022-10-23   \n",
       "25779     Carlos       Sainz     55  United States Grand Prix  2022-10-23   \n",
       "25775     Daniel   Ricciardo      3  United States Grand Prix  2022-10-23   \n",
       "25774       Mick  Schumacher     47  United States Grand Prix  2022-10-23   \n",
       "25773     Pierre       Gasly     10  United States Grand Prix  2022-10-23   \n",
       "25772  Alexander       Albon     23  United States Grand Prix  2022-10-23   \n",
       "25776   Nicholas      Latifi      6  United States Grand Prix  2022-10-23   \n",
       "\n",
       "       positionOrder  grid rank  \n",
       "25758             19     3    0  \n",
       "25751             12    19    5  \n",
       "25769             10    19    6  \n",
       "25767              8    10   16  \n",
       "25766              7    14    8  \n",
       "25765              6     6    7  \n",
       "25760              1     2    2  \n",
       "25763              4     9    3  \n",
       "25762              3    12    4  \n",
       "25761              2     3    5  \n",
       "25768              9    13   11  \n",
       "25764              5     4    1  \n",
       "25770             11     0   13  \n",
       "25771             12    18   15  \n",
       "25778             19     7   18  \n",
       "25777             18     5   17  \n",
       "25779             20     1    0  \n",
       "25775             16    15   14  \n",
       "25774             15    16   10  \n",
       "25773             14    11   12  \n",
       "25772             13     8    9  \n",
       "25776             17    17   19  "
      ]
     },
     "execution_count": 147,
     "metadata": {},
     "output_type": "execute_result"
    }
   ],
   "source": [
    "dfsp.tail(82).head(22)\n"
   ]
  },
  {
   "cell_type": "code",
   "execution_count": 148,
   "metadata": {},
   "outputs": [
    {
     "name": "stdout",
     "output_type": "stream",
     "text": [
      "<class 'pandas.core.frame.DataFrame'>\n",
      "Int64Index: 25840 entries, 20034 to 25839\n",
      "Data columns (total 8 columns):\n",
      " #   Column         Non-Null Count  Dtype \n",
      "---  ------         --------------  ----- \n",
      " 0   forename       25840 non-null  string\n",
      " 1   surname        25840 non-null  string\n",
      " 2   number         25840 non-null  string\n",
      " 3   name           25840 non-null  string\n",
      " 4   date           25840 non-null  string\n",
      " 5   positionOrder  25840 non-null  Int64 \n",
      " 6   grid           25840 non-null  Int64 \n",
      " 7   rank           25840 non-null  string\n",
      "dtypes: Int64(2), string(6)\n",
      "memory usage: 1.8 MB\n"
     ]
    }
   ],
   "source": [
    "dfsp=dfsp.sort_values(by=['date'])\n",
    "dfsp=dfsp.convert_dtypes()\n",
    "dfsp.info()"
   ]
  },
  {
   "attachments": {},
   "cell_type": "markdown",
   "metadata": {},
   "source": [
    "## getting the winners list overall and per season"
   ]
  },
  {
   "cell_type": "code",
   "execution_count": 166,
   "metadata": {},
   "outputs": [
    {
     "name": "stderr",
     "output_type": "stream",
     "text": [
      "/tmp/ipykernel_30717/1471719717.py:2: SettingWithCopyWarning:\n",
      "\n",
      "\n",
      "A value is trying to be set on a copy of a slice from a DataFrame.\n",
      "Try using .loc[row_indexer,col_indexer] = value instead\n",
      "\n",
      "See the caveats in the documentation: https://pandas.pydata.org/pandas-docs/stable/user_guide/indexing.html#returning-a-view-versus-a-copy\n",
      "\n"
     ]
    }
   ],
   "source": [
    "wins = dfsp[dfsp['positionOrder']==1]\n",
    "wins['year'] = [m[:4] for m in wins['date']]\n",
    "winst = wins.groupby([wins['forename'],wins['surname']])['positionOrder'].count().reset_index(name='wins')\n",
    "wins = wins.groupby([wins['forename'],wins['surname'],wins['year'].astype('int32')])['positionOrder'].count().reset_index(name='wins')"
   ]
  },
  {
   "cell_type": "code",
   "execution_count": 167,
   "metadata": {},
   "outputs": [],
   "source": [
    "winst=winst.sort_values(by='wins')\n",
    "top10f=winst.tail(10)\n"
   ]
  },
  {
   "cell_type": "code",
   "execution_count": 157,
   "metadata": {},
   "outputs": [
    {
     "data": {
      "image/png": "[encoded data removed]",
      "text/plain": [
       "<Figure size 800x500 with 1 Axes>"
      ]
     },
     "metadata": {},
     "output_type": "display_data"
    }
   ],
   "source": [
    "# plt.style.use('_mpl-gallery')\n",
    "plt.rcParams[\"figure.figsize\"] = (8,5)\n",
    "# plt.xlabel('xlabel', fontsize=18)\n",
    "\n",
    "x = top10f['surname']\n",
    "y = top10f['wins']\n",
    "\n",
    "# plot\n",
    "fig, ax = plt.subplots()\n",
    "\n",
    "ax.bar(x, y, width=1, edgecolor=\"white\", linewidth=1.5)\n",
    "\n",
    "ax.set(xlim=(1, 11), xticks=np.arange(1, 12),\n",
    "       ylim=(0, 150), yticks=np.arange(1, 105,25))\n",
    "\n",
    "plt.show()"
   ]
  },
  {
   "cell_type": "code",
   "execution_count": null,
   "metadata": {},
   "outputs": [],
   "source": []
  },
  {
   "cell_type": "code",
   "execution_count": 158,
   "metadata": {},
   "outputs": [
    {
     "data": {
      "application/vnd.plotly.v1+json": {
       "config": {
        "plotlyServerURL": "https://plot.ly"
       },
       "data": [
        {
         "type": "scatter",
         "x": [
          2007,
          2008,
          2009,
          2010,
          2011,
          2012,
          2013,
          2014,
          2015,
          2016,
          2017,
          2018,
          2019,
          2020,
          2021
         ],
         "y": [
          4,
          5,
          2,
          3,
          3,
          4,
          1,
          11,
          10,
          10,
          9,
          11,
          11,
          11,
          8
         ]
        },
        {
         "type": "scatter",
         "x": [
          2008,
          2009,
          2010,
          2011,
          2012,
          2013,
          2015,
          2017,
          2018,
          2019
         ],
         "y": [
          1,
          4,
          5,
          11,
          5,
          13,
          3,
          5,
          5,
          1
         ]
        },
        {
         "type": "scatter",
         "x": [
          1981,
          1982,
          1983,
          1984,
          1985,
          1986,
          1987,
          1988,
          1989,
          1990,
          1993
         ],
         "y": [
          3,
          2,
          4,
          7,
          5,
          4,
          3,
          7,
          4,
          5,
          7
         ]
        },
        {
         "type": "scatter",
         "x": [
          2012,
          2013,
          2014,
          2015,
          2016
         ],
         "y": [
          1,
          2,
          5,
          6,
          9
         ]
        },
        {
         "type": "scatter",
         "x": [
          1992,
          1993,
          1994,
          1995,
          1996,
          1997,
          1998,
          1999,
          2000,
          2001,
          2002,
          2003,
          2004,
          2005,
          2006
         ],
         "y": [
          1,
          1,
          8,
          9,
          3,
          5,
          6,
          2,
          9,
          9,
          11,
          6,
          13,
          1,
          7
         ]
        },
        {
         "type": "scatter",
         "x": [
          2016,
          2017,
          2018,
          2019,
          2020,
          2021,
          2022
         ],
         "y": [
          1,
          2,
          2,
          3,
          2,
          10,
          15
         ]
        },
        {
         "type": "scatter",
         "x": [
          1985,
          1986,
          1987,
          1988,
          1989,
          1990,
          1991,
          1992,
          1993
         ],
         "y": [
          2,
          2,
          2,
          8,
          6,
          6,
          7,
          3,
          5
         ]
        }
       ],
       "layout": {
        "template": {
         "data": {
          "bar": [
           {
            "error_x": {
             "color": "#2a3f5f"
            },
            "error_y": {
             "color": "#2a3f5f"
            },
            "marker": {
             "line": {
              "color": "#E5ECF6",
              "width": 0.5
             },
             "pattern": {
              "fillmode": "overlay",
              "size": 10,
              "solidity": 0.2
             }
            },
            "type": "bar"
           }
          ],
          "barpolar": [
           {
            "marker": {
             "line": {
              "color": "#E5ECF6",
              "width": 0.5
             },
             "pattern": {
              "fillmode": "overlay",
              "size": 10,
              "solidity": 0.2
             }
            },
            "type": "barpolar"
           }
          ],
          "carpet": [
           {
            "aaxis": {
             "endlinecolor": "#2a3f5f",
             "gridcolor": "white",
             "linecolor": "white",
             "minorgridcolor": "white",
             "startlinecolor": "#2a3f5f"
            },
            "baxis": {
             "endlinecolor": "#2a3f5f",
             "gridcolor": "white",
             "linecolor": "white",
             "minorgridcolor": "white",
             "startlinecolor": "#2a3f5f"
            },
            "type": "carpet"
           }
          ],
          "choropleth": [
           {
            "colorbar": {
             "outlinewidth": 0,
             "ticks": ""
            },
            "type": "choropleth"
           }
          ],
          "contour": [
           {
            "colorbar": {
             "outlinewidth": 0,
             "ticks": ""
            },
            "colorscale": [
             [
              0,
              "#0d0887"
             ],
             [
              0.1111111111111111,
              "#46039f"
             ],
             [
              0.2222222222222222,
              "#7201a8"
             ],
             [
              0.3333333333333333,
              "#9c179e"
             ],
             [
              0.4444444444444444,
              "#bd3786"
             ],
             [
              0.5555555555555556,
              "#d8576b"
             ],
             [
              0.6666666666666666,
              "#ed7953"
             ],
             [
              0.7777777777777778,
              "#fb9f3a"
             ],
             [
              0.8888888888888888,
              "#fdca26"
             ],
             [
              1,
              "#f0f921"
             ]
            ],
            "type": "contour"
           }
          ],
          "contourcarpet": [
           {
            "colorbar": {
             "outlinewidth": 0,
             "ticks": ""
            },
            "type": "contourcarpet"
           }
          ],
          "heatmap": [
           {
            "colorbar": {
             "outlinewidth": 0,
             "ticks": ""
            },
            "colorscale": [
             [
              0,
              "#0d0887"
             ],
             [
              0.1111111111111111,
              "#46039f"
             ],
             [
              0.2222222222222222,
              "#7201a8"
             ],
             [
              0.3333333333333333,
              "#9c179e"
             ],
             [
              0.4444444444444444,
              "#bd3786"
             ],
             [
              0.5555555555555556,
              "#d8576b"
             ],
             [
              0.6666666666666666,
              "#ed7953"
             ],
             [
              0.7777777777777778,
              "#fb9f3a"
             ],
             [
              0.8888888888888888,
              "#fdca26"
             ],
             [
              1,
              "#f0f921"
             ]
            ],
            "type": "heatmap"
           }
          ],
          "heatmapgl": [
           {
            "colorbar": {
             "outlinewidth": 0,
             "ticks": ""
            },
            "colorscale": [
             [
              0,
              "#0d0887"
             ],
             [
              0.1111111111111111,
              "#46039f"
             ],
             [
              0.2222222222222222,
              "#7201a8"
             ],
             [
              0.3333333333333333,
              "#9c179e"
             ],
             [
              0.4444444444444444,
              "#bd3786"
             ],
             [
              0.5555555555555556,
              "#d8576b"
             ],
             [
              0.6666666666666666,
              "#ed7953"
             ],
             [
              0.7777777777777778,
              "#fb9f3a"
             ],
             [
              0.8888888888888888,
              "#fdca26"
             ],
             [
              1,
              "#f0f921"
             ]
            ],
            "type": "heatmapgl"
           }
          ],
          "histogram": [
           {
            "marker": {
             "pattern": {
              "fillmode": "overlay",
              "size": 10,
              "solidity": 0.2
             }
            },
            "type": "histogram"
           }
          ],
          "histogram2d": [
           {
            "colorbar": {
             "outlinewidth": 0,
             "ticks": ""
            },
            "colorscale": [
             [
              0,
              "#0d0887"
             ],
             [
              0.1111111111111111,
              "#46039f"
             ],
             [
              0.2222222222222222,
              "#7201a8"
             ],
             [
              0.3333333333333333,
              "#9c179e"
             ],
             [
              0.4444444444444444,
              "#bd3786"
             ],
             [
              0.5555555555555556,
              "#d8576b"
             ],
             [
              0.6666666666666666,
              "#ed7953"
             ],
             [
              0.7777777777777778,
              "#fb9f3a"
             ],
             [
              0.8888888888888888,
              "#fdca26"
             ],
             [
              1,
              "#f0f921"
             ]
            ],
            "type": "histogram2d"
           }
          ],
          "histogram2dcontour": [
           {
            "colorbar": {
             "outlinewidth": 0,
             "ticks": ""
            },
            "colorscale": [
             [
              0,
              "#0d0887"
             ],
             [
              0.1111111111111111,
              "#46039f"
             ],
             [
              0.2222222222222222,
              "#7201a8"
             ],
             [
              0.3333333333333333,
              "#9c179e"
             ],
             [
              0.4444444444444444,
              "#bd3786"
             ],
             [
              0.5555555555555556,
              "#d8576b"
             ],
             [
              0.6666666666666666,
              "#ed7953"
             ],
             [
              0.7777777777777778,
              "#fb9f3a"
             ],
             [
              0.8888888888888888,
              "#fdca26"
             ],
             [
              1,
              "#f0f921"
             ]
            ],
            "type": "histogram2dcontour"
           }
          ],
          "mesh3d": [
           {
            "colorbar": {
             "outlinewidth": 0,
             "ticks": ""
            },
            "type": "mesh3d"
           }
          ],
          "parcoords": [
           {
            "line": {
             "colorbar": {
              "outlinewidth": 0,
              "ticks": ""
             }
            },
            "type": "parcoords"
           }
          ],
          "pie": [
           {
            "automargin": true,
            "type": "pie"
           }
          ],
          "scatter": [
           {
            "fillpattern": {
             "fillmode": "overlay",
             "size": 10,
             "solidity": 0.2
            },
            "type": "scatter"
           }
          ],
          "scatter3d": [
           {
            "line": {
             "colorbar": {
              "outlinewidth": 0,
              "ticks": ""
             }
            },
            "marker": {
             "colorbar": {
              "outlinewidth": 0,
              "ticks": ""
             }
            },
            "type": "scatter3d"
           }
          ],
          "scattercarpet": [
           {
            "marker": {
             "colorbar": {
              "outlinewidth": 0,
              "ticks": ""
             }
            },
            "type": "scattercarpet"
           }
          ],
          "scattergeo": [
           {
            "marker": {
             "colorbar": {
              "outlinewidth": 0,
              "ticks": ""
             }
            },
            "type": "scattergeo"
           }
          ],
          "scattergl": [
           {
            "marker": {
             "colorbar": {
              "outlinewidth": 0,
              "ticks": ""
             }
            },
            "type": "scattergl"
           }
          ],
          "scattermapbox": [
           {
            "marker": {
             "colorbar": {
              "outlinewidth": 0,
              "ticks": ""
             }
            },
            "type": "scattermapbox"
           }
          ],
          "scatterpolar": [
           {
            "marker": {
             "colorbar": {
              "outlinewidth": 0,
              "ticks": ""
             }
            },
            "type": "scatterpolar"
           }
          ],
          "scatterpolargl": [
           {
            "marker": {
             "colorbar": {
              "outlinewidth": 0,
              "ticks": ""
             }
            },
            "type": "scatterpolargl"
           }
          ],
          "scatterternary": [
           {
            "marker": {
             "colorbar": {
              "outlinewidth": 0,
              "ticks": ""
             }
            },
            "type": "scatterternary"
           }
          ],
          "surface": [
           {
            "colorbar": {
             "outlinewidth": 0,
             "ticks": ""
            },
            "colorscale": [
             [
              0,
              "#0d0887"
             ],
             [
              0.1111111111111111,
              "#46039f"
             ],
             [
              0.2222222222222222,
              "#7201a8"
             ],
             [
              0.3333333333333333,
              "#9c179e"
             ],
             [
              0.4444444444444444,
              "#bd3786"
             ],
             [
              0.5555555555555556,
              "#d8576b"
             ],
             [
              0.6666666666666666,
              "#ed7953"
             ],
             [
              0.7777777777777778,
              "#fb9f3a"
             ],
             [
              0.8888888888888888,
              "#fdca26"
             ],
             [
              1,
              "#f0f921"
             ]
            ],
            "type": "surface"
           }
          ],
          "table": [
           {
            "cells": {
             "fill": {
              "color": "#EBF0F8"
             },
             "line": {
              "color": "white"
             }
            },
            "header": {
             "fill": {
              "color": "#C8D4E3"
             },
             "line": {
              "color": "white"
             }
            },
            "type": "table"
           }
          ]
         },
         "layout": {
          "annotationdefaults": {
           "arrowcolor": "#2a3f5f",
           "arrowhead": 0,
           "arrowwidth": 1
          },
          "autotypenumbers": "strict",
          "coloraxis": {
           "colorbar": {
            "outlinewidth": 0,
            "ticks": ""
           }
          },
          "colorscale": {
           "diverging": [
            [
             0,
             "#8e0152"
            ],
            [
             0.1,
             "#c51b7d"
            ],
            [
             0.2,
             "#de77ae"
            ],
            [
             0.3,
             "#f1b6da"
            ],
            [
             0.4,
             "#fde0ef"
            ],
            [
             0.5,
             "#f7f7f7"
            ],
            [
             0.6,
             "#e6f5d0"
            ],
            [
             0.7,
             "#b8e186"
            ],
            [
             0.8,
             "#7fbc41"
            ],
            [
             0.9,
             "#4d9221"
            ],
            [
             1,
             "#276419"
            ]
           ],
           "sequential": [
            [
             0,
             "#0d0887"
            ],
            [
             0.1111111111111111,
             "#46039f"
            ],
            [
             0.2222222222222222,
             "#7201a8"
            ],
            [
             0.3333333333333333,
             "#9c179e"
            ],
            [
             0.4444444444444444,
             "#bd3786"
            ],
            [
             0.5555555555555556,
             "#d8576b"
            ],
            [
             0.6666666666666666,
             "#ed7953"
            ],
            [
             0.7777777777777778,
             "#fb9f3a"
            ],
            [
             0.8888888888888888,
             "#fdca26"
            ],
            [
             1,
             "#f0f921"
            ]
           ],
           "sequentialminus": [
            [
             0,
             "#0d0887"
            ],
            [
             0.1111111111111111,
             "#46039f"
            ],
            [
             0.2222222222222222,
             "#7201a8"
            ],
            [
             0.3333333333333333,
             "#9c179e"
            ],
            [
             0.4444444444444444,
             "#bd3786"
            ],
            [
             0.5555555555555556,
             "#d8576b"
            ],
            [
             0.6666666666666666,
             "#ed7953"
            ],
            [
             0.7777777777777778,
             "#fb9f3a"
            ],
            [
             0.8888888888888888,
             "#fdca26"
            ],
            [
             1,
             "#f0f921"
            ]
           ]
          },
          "colorway": [
           "#636efa",
           "#EF553B",
           "#00cc96",
           "#ab63fa",
           "#FFA15A",
           "#19d3f3",
           "#FF6692",
           "#B6E880",
           "#FF97FF",
           "#FECB52"
          ],
          "font": {
           "color": "#2a3f5f"
          },
          "geo": {
           "bgcolor": "white",
           "lakecolor": "white",
           "landcolor": "#E5ECF6",
           "showlakes": true,
           "showland": true,
           "subunitcolor": "white"
          },
          "hoverlabel": {
           "align": "left"
          },
          "hovermode": "closest",
          "mapbox": {
           "style": "light"
          },
          "paper_bgcolor": "white",
          "plot_bgcolor": "#E5ECF6",
          "polar": {
           "angularaxis": {
            "gridcolor": "white",
            "linecolor": "white",
            "ticks": ""
           },
           "bgcolor": "#E5ECF6",
           "radialaxis": {
            "gridcolor": "white",
            "linecolor": "white",
            "ticks": ""
           }
          },
          "scene": {
           "xaxis": {
            "backgroundcolor": "#E5ECF6",
            "gridcolor": "white",
            "gridwidth": 2,
            "linecolor": "white",
            "showbackground": true,
            "ticks": "",
            "zerolinecolor": "white"
           },
           "yaxis": {
            "backgroundcolor": "#E5ECF6",
            "gridcolor": "white",
            "gridwidth": 2,
            "linecolor": "white",
            "showbackground": true,
            "ticks": "",
            "zerolinecolor": "white"
           },
           "zaxis": {
            "backgroundcolor": "#E5ECF6",
            "gridcolor": "white",
            "gridwidth": 2,
            "linecolor": "white",
            "showbackground": true,
            "ticks": "",
            "zerolinecolor": "white"
           }
          },
          "shapedefaults": {
           "line": {
            "color": "#2a3f5f"
           }
          },
          "ternary": {
           "aaxis": {
            "gridcolor": "white",
            "linecolor": "white",
            "ticks": ""
           },
           "baxis": {
            "gridcolor": "white",
            "linecolor": "white",
            "ticks": ""
           },
           "bgcolor": "#E5ECF6",
           "caxis": {
            "gridcolor": "white",
            "linecolor": "white",
            "ticks": ""
           }
          },
          "title": {
           "x": 0.05
          },
          "xaxis": {
           "automargin": true,
           "gridcolor": "white",
           "linecolor": "white",
           "ticks": "",
           "title": {
            "standoff": 15
           },
           "zerolinecolor": "white",
           "zerolinewidth": 2
          },
          "yaxis": {
           "automargin": true,
           "gridcolor": "white",
           "linecolor": "white",
           "ticks": "",
           "title": {
            "standoff": 15
           },
           "zerolinecolor": "white",
           "zerolinewidth": 2
          }
         }
        },
        "title": {
         "text": "comparison between Hamilton and other drivers"
        },
        "xaxis": {
         "fixedrange": true
        },
        "yaxis": {
         "fixedrange": true
        }
       }
      }
     },
     "metadata": {},
     "output_type": "display_data"
    }
   ],
   "source": [
    "plt.style.use('_mpl-gallery')\n",
    "plt.rcParams[\"figure.figsize\"] = (8,5)\n",
    "\n",
    "x = wins.loc[wins['surname']=='Hamilton']['year']\n",
    "y = wins.loc[wins['surname']=='Hamilton']['wins']\n",
    "\n",
    "# ax1 = dfl.plot.scatter(x='year',y='wins',c='DarkBlue')\n",
    "# axl =dfv.plot.scatter(x='year',y='wins',c='red')\n",
    "fig = dict({\n",
    "    \"data\": [{\"type\": \"scatter\",\n",
    "              \"x\": x,\n",
    "              \"y\": y},\n",
    "              {\"type\": \"scatter\",\n",
    "              \"x\": wins.loc[wins['surname']=='Vettel']['year'],\n",
    "              \"y\": wins.loc[wins['surname']=='Vettel']['wins']},\n",
    "              {\"type\": \"scatter\",\n",
    "              \"x\": wins.loc[wins['surname']=='Prost']['year'],\n",
    "              \"y\": wins.loc[wins['surname']=='Prost']['wins']},\n",
    "              {\"type\": \"scatter\",\n",
    "              \"x\": wins.loc[wins['forename']=='Nico']['year'],\n",
    "              \"y\": wins.loc[wins['forename']=='Nico']['wins']},\n",
    "              {\"type\": \"scatter\",\n",
    "              \"x\": wins.loc[wins['surname']=='Schumacher']['year'][:15],\n",
    "              \"y\": wins.loc[wins['surname']=='Schumacher']['wins'][:15]},\n",
    "              {\"type\": \"scatter\",\n",
    "              \"x\": wins.loc[wins['surname']=='Verstappen']['year'],\n",
    "              \"y\": wins.loc[wins['surname']=='Verstappen']['wins']},\n",
    "              {\"type\": \"scatter\",\n",
    "              \"x\": wins.loc[wins['forename']=='Ayrton']['year'],\n",
    "              \"y\": wins.loc[wins['forename']=='Ayrton']['wins']}],\n",
    "    \"layout\": {\"title\": {\"text\": \"comparison between Hamilton and other drivers\"},\n",
    "                \"xaxis_fixedrange\": True,\n",
    "                \"yaxis_fixedrange\": True}\n",
    "    })\n",
    "pio.show(fig)"
   ]
  }
 ],
 "metadata": {
  "kernelspec": {
   "display_name": "Python 3.9.13 ('base')",
   "language": "python",
   "name": "python3"
  },
  "language_info": {
   "codemirror_mode": {
    "name": "ipython",
    "version": 3
   },
   "file_extension": ".py",
   "mimetype": "text/x-python",
   "name": "python",
   "nbconvert_exporter": "python",
   "pygments_lexer": "ipython3",
   "version": "3.9.13"
  },
  "orig_nbformat": 4,
  "vscode": {
   "interpreter": {
    "hash": "8bd8283e7c2a70e76d06dbbf32aeef52724948ba7c443e047e7b5910a1d4dda1"
   }
  }
 },
 "nbformat": 4,
 "nbformat_minor": 2
}
